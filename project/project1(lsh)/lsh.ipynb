{
 "cells": [
  {
   "cell_type": "code",
   "execution_count": 1,
   "id": "a91ce3cd",
   "metadata": {},
   "outputs": [],
   "source": [
    "import pandas as pd\n",
    "import numpy as np\n",
    "import random\n",
    "import matplotlib.pyplot as plt"
   ]
  },
  {
   "cell_type": "markdown",
   "id": "59e2cddf",
   "metadata": {},
   "source": [
    "## obtain data"
   ]
  },
  {
   "cell_type": "code",
   "execution_count": 45,
   "id": "89f10da3",
   "metadata": {},
   "outputs": [],
   "source": [
    "max_node = 18771 \n",
    "\n",
    "data = [[] for i in range(max_node)] \n",
    "with open('./ca-AstroPh.txt', 'r') as f:\n",
    "    f.readline() # skip the first row\n",
    "    for line in f:\n",
    "        node1, node2 = map(int, line.strip().split())\n",
    "        data[node1 - 1].append(node2)\n",
    "        data[node2 - 1].append(node1)"
   ]
  },
  {
   "cell_type": "markdown",
   "id": "ee5b1d48",
   "metadata": {},
   "source": [
    "## define hash function"
   ]
  },
  {
   "cell_type": "code",
   "execution_count": 10,
   "id": "5cbf78b3",
   "metadata": {},
   "outputs": [],
   "source": [
    "# def hashing funciton\n",
    "def multiplicative_hash(element, a, scale=max_node):\n",
    "    \"\"\"\n",
    "    Args:\n",
    "        element: the element that will be hashed\n",
    "        a: constant multiplier\n",
    "        scale: the output scale\n",
    "    \"\"\"\n",
    "    h = (element * a) % 1\n",
    "    return int(h * scale)"
   ]
  },
  {
   "cell_type": "markdown",
   "id": "95f2092b",
   "metadata": {},
   "source": [
    "## construct hash signature matrix"
   ]
  },
  {
   "cell_type": "code",
   "execution_count": 11,
   "id": "55dd543a",
   "metadata": {},
   "outputs": [],
   "source": [
    "# %%timeit -r 1 -n 2\n",
    "\n",
    "# the numbers of hash function\n",
    "num = 500\n",
    "signature_matrix = pd.DataFrame(data=np.zeros((num, max_node)),columns=np.arange(1, max_node+1))\n",
    "rng = np.random.default_rng(num)\n",
    "\n",
    "for i in range(num):\n",
    "    # obtain multiplier randomly\n",
    "    multiplier = rng.uniform(0,1)\n",
    "    \n",
    "    # store the minimum element of each node\n",
    "    tmp_list = []\n",
    "    \n",
    "    # travese each node to find the min element \n",
    "    for node in range(max_node):\n",
    "        tmp_list.append(np.min([ multiplicative_hash(data[node][_], multiplier) for _ in range(len(data[node])) ]))\n",
    "       \n",
    "    # assign the result of this hash function to a row of a signature matrix\n",
    "    signature_matrix.loc[i] = tmp_list"
   ]
  },
  {
   "cell_type": "code",
   "execution_count": 12,
   "id": "88db7251",
   "metadata": {},
   "outputs": [
    {
     "data": {
      "text/html": [
       "<div>\n",
       "<style scoped>\n",
       "    .dataframe tbody tr th:only-of-type {\n",
       "        vertical-align: middle;\n",
       "    }\n",
       "\n",
       "    .dataframe tbody tr th {\n",
       "        vertical-align: top;\n",
       "    }\n",
       "\n",
       "    .dataframe thead th {\n",
       "        text-align: right;\n",
       "    }\n",
       "</style>\n",
       "<table border=\"1\" class=\"dataframe\">\n",
       "  <thead>\n",
       "    <tr style=\"text-align: right;\">\n",
       "      <th></th>\n",
       "      <th>1</th>\n",
       "      <th>2</th>\n",
       "      <th>3</th>\n",
       "      <th>4</th>\n",
       "      <th>5</th>\n",
       "      <th>6</th>\n",
       "      <th>7</th>\n",
       "      <th>8</th>\n",
       "      <th>9</th>\n",
       "      <th>10</th>\n",
       "      <th>...</th>\n",
       "      <th>18762</th>\n",
       "      <th>18763</th>\n",
       "      <th>18764</th>\n",
       "      <th>18765</th>\n",
       "      <th>18766</th>\n",
       "      <th>18767</th>\n",
       "      <th>18768</th>\n",
       "      <th>18769</th>\n",
       "      <th>18770</th>\n",
       "      <th>18771</th>\n",
       "    </tr>\n",
       "  </thead>\n",
       "  <tbody>\n",
       "    <tr>\n",
       "      <th>0</th>\n",
       "      <td>43.0</td>\n",
       "      <td>384.0</td>\n",
       "      <td>24.0</td>\n",
       "      <td>10638.0</td>\n",
       "      <td>9.0</td>\n",
       "      <td>11.0</td>\n",
       "      <td>172.0</td>\n",
       "      <td>1643.0</td>\n",
       "      <td>75.0</td>\n",
       "      <td>4438.0</td>\n",
       "      <td>...</td>\n",
       "      <td>12541.0</td>\n",
       "      <td>6914.0</td>\n",
       "      <td>15046.0</td>\n",
       "      <td>1287.0</td>\n",
       "      <td>1287.0</td>\n",
       "      <td>9419.0</td>\n",
       "      <td>3792.0</td>\n",
       "      <td>11925.0</td>\n",
       "      <td>6298.0</td>\n",
       "      <td>14431.0</td>\n",
       "    </tr>\n",
       "    <tr>\n",
       "      <th>1</th>\n",
       "      <td>245.0</td>\n",
       "      <td>661.0</td>\n",
       "      <td>348.0</td>\n",
       "      <td>15028.0</td>\n",
       "      <td>78.0</td>\n",
       "      <td>159.0</td>\n",
       "      <td>245.0</td>\n",
       "      <td>308.0</td>\n",
       "      <td>157.0</td>\n",
       "      <td>245.0</td>\n",
       "      <td>...</td>\n",
       "      <td>9029.0</td>\n",
       "      <td>806.0</td>\n",
       "      <td>3547.0</td>\n",
       "      <td>11354.0</td>\n",
       "      <td>11354.0</td>\n",
       "      <td>14095.0</td>\n",
       "      <td>5872.0</td>\n",
       "      <td>8613.0</td>\n",
       "      <td>390.0</td>\n",
       "      <td>3131.0</td>\n",
       "    </tr>\n",
       "    <tr>\n",
       "      <th>2</th>\n",
       "      <td>113.0</td>\n",
       "      <td>83.0</td>\n",
       "      <td>11.0</td>\n",
       "      <td>12113.0</td>\n",
       "      <td>557.0</td>\n",
       "      <td>164.0</td>\n",
       "      <td>293.0</td>\n",
       "      <td>770.0</td>\n",
       "      <td>50.0</td>\n",
       "      <td>1313.0</td>\n",
       "      <td>...</td>\n",
       "      <td>10256.0</td>\n",
       "      <td>9056.0</td>\n",
       "      <td>15713.0</td>\n",
       "      <td>7856.0</td>\n",
       "      <td>2399.0</td>\n",
       "      <td>2399.0</td>\n",
       "      <td>13313.0</td>\n",
       "      <td>1199.0</td>\n",
       "      <td>18770.0</td>\n",
       "      <td>6656.0</td>\n",
       "    </tr>\n",
       "    <tr>\n",
       "      <th>3</th>\n",
       "      <td>271.0</td>\n",
       "      <td>762.0</td>\n",
       "      <td>517.0</td>\n",
       "      <td>7717.0</td>\n",
       "      <td>167.0</td>\n",
       "      <td>414.0</td>\n",
       "      <td>376.0</td>\n",
       "      <td>871.0</td>\n",
       "      <td>1.0</td>\n",
       "      <td>7717.0</td>\n",
       "      <td>...</td>\n",
       "      <td>13383.0</td>\n",
       "      <td>17765.0</td>\n",
       "      <td>10047.0</td>\n",
       "      <td>3377.0</td>\n",
       "      <td>3377.0</td>\n",
       "      <td>6712.0</td>\n",
       "      <td>41.0</td>\n",
       "      <td>11094.0</td>\n",
       "      <td>15477.0</td>\n",
       "      <td>7759.0</td>\n",
       "    </tr>\n",
       "    <tr>\n",
       "      <th>4</th>\n",
       "      <td>337.0</td>\n",
       "      <td>8.0</td>\n",
       "      <td>119.0</td>\n",
       "      <td>8785.0</td>\n",
       "      <td>121.0</td>\n",
       "      <td>365.0</td>\n",
       "      <td>52.0</td>\n",
       "      <td>400.0</td>\n",
       "      <td>280.0</td>\n",
       "      <td>1968.0</td>\n",
       "      <td>...</td>\n",
       "      <td>14027.0</td>\n",
       "      <td>2842.0</td>\n",
       "      <td>12827.0</td>\n",
       "      <td>1642.0</td>\n",
       "      <td>10427.0</td>\n",
       "      <td>1642.0</td>\n",
       "      <td>9227.0</td>\n",
       "      <td>441.0</td>\n",
       "      <td>8027.0</td>\n",
       "      <td>18012.0</td>\n",
       "    </tr>\n",
       "    <tr>\n",
       "      <th>...</th>\n",
       "      <td>...</td>\n",
       "      <td>...</td>\n",
       "      <td>...</td>\n",
       "      <td>...</td>\n",
       "      <td>...</td>\n",
       "      <td>...</td>\n",
       "      <td>...</td>\n",
       "      <td>...</td>\n",
       "      <td>...</td>\n",
       "      <td>...</td>\n",
       "      <td>...</td>\n",
       "      <td>...</td>\n",
       "      <td>...</td>\n",
       "      <td>...</td>\n",
       "      <td>...</td>\n",
       "      <td>...</td>\n",
       "      <td>...</td>\n",
       "      <td>...</td>\n",
       "      <td>...</td>\n",
       "      <td>...</td>\n",
       "      <td>...</td>\n",
       "    </tr>\n",
       "    <tr>\n",
       "      <th>495</th>\n",
       "      <td>286.0</td>\n",
       "      <td>268.0</td>\n",
       "      <td>342.0</td>\n",
       "      <td>6142.0</td>\n",
       "      <td>77.0</td>\n",
       "      <td>209.0</td>\n",
       "      <td>43.0</td>\n",
       "      <td>55.0</td>\n",
       "      <td>293.0</td>\n",
       "      <td>3042.0</td>\n",
       "      <td>...</td>\n",
       "      <td>17174.0</td>\n",
       "      <td>16830.0</td>\n",
       "      <td>10687.0</td>\n",
       "      <td>10343.0</td>\n",
       "      <td>4201.0</td>\n",
       "      <td>4201.0</td>\n",
       "      <td>9998.0</td>\n",
       "      <td>3856.0</td>\n",
       "      <td>3512.0</td>\n",
       "      <td>16141.0</td>\n",
       "    </tr>\n",
       "    <tr>\n",
       "      <th>496</th>\n",
       "      <td>969.0</td>\n",
       "      <td>1248.0</td>\n",
       "      <td>322.0</td>\n",
       "      <td>8326.0</td>\n",
       "      <td>165.0</td>\n",
       "      <td>1269.0</td>\n",
       "      <td>9.0</td>\n",
       "      <td>952.0</td>\n",
       "      <td>5.0</td>\n",
       "      <td>3517.0</td>\n",
       "      <td>...</td>\n",
       "      <td>5397.0</td>\n",
       "      <td>11606.0</td>\n",
       "      <td>3279.0</td>\n",
       "      <td>9489.0</td>\n",
       "      <td>1162.0</td>\n",
       "      <td>1162.0</td>\n",
       "      <td>15698.0</td>\n",
       "      <td>7371.0</td>\n",
       "      <td>13580.0</td>\n",
       "      <td>5253.0</td>\n",
       "    </tr>\n",
       "    <tr>\n",
       "      <th>497</th>\n",
       "      <td>258.0</td>\n",
       "      <td>2200.0</td>\n",
       "      <td>1641.0</td>\n",
       "      <td>9191.0</td>\n",
       "      <td>102.0</td>\n",
       "      <td>1109.0</td>\n",
       "      <td>94.0</td>\n",
       "      <td>344.0</td>\n",
       "      <td>208.0</td>\n",
       "      <td>1423.0</td>\n",
       "      <td>...</td>\n",
       "      <td>7774.0</td>\n",
       "      <td>16577.0</td>\n",
       "      <td>7386.0</td>\n",
       "      <td>6609.0</td>\n",
       "      <td>6609.0</td>\n",
       "      <td>6997.0</td>\n",
       "      <td>6221.0</td>\n",
       "      <td>15800.0</td>\n",
       "      <td>5832.0</td>\n",
       "      <td>15412.0</td>\n",
       "    </tr>\n",
       "    <tr>\n",
       "      <th>498</th>\n",
       "      <td>65.0</td>\n",
       "      <td>65.0</td>\n",
       "      <td>408.0</td>\n",
       "      <td>15487.0</td>\n",
       "      <td>919.0</td>\n",
       "      <td>128.0</td>\n",
       "      <td>186.0</td>\n",
       "      <td>1225.0</td>\n",
       "      <td>15.0</td>\n",
       "      <td>1922.0</td>\n",
       "      <td>...</td>\n",
       "      <td>8500.0</td>\n",
       "      <td>17421.0</td>\n",
       "      <td>1933.0</td>\n",
       "      <td>7571.0</td>\n",
       "      <td>7571.0</td>\n",
       "      <td>10854.0</td>\n",
       "      <td>1004.0</td>\n",
       "      <td>4288.0</td>\n",
       "      <td>13209.0</td>\n",
       "      <td>16492.0</td>\n",
       "    </tr>\n",
       "    <tr>\n",
       "      <th>499</th>\n",
       "      <td>429.0</td>\n",
       "      <td>250.0</td>\n",
       "      <td>113.0</td>\n",
       "      <td>6776.0</td>\n",
       "      <td>158.0</td>\n",
       "      <td>1220.0</td>\n",
       "      <td>134.0</td>\n",
       "      <td>106.0</td>\n",
       "      <td>295.0</td>\n",
       "      <td>2043.0</td>\n",
       "      <td>...</td>\n",
       "      <td>5759.0</td>\n",
       "      <td>7318.0</td>\n",
       "      <td>541.0</td>\n",
       "      <td>2101.0</td>\n",
       "      <td>8878.0</td>\n",
       "      <td>2101.0</td>\n",
       "      <td>3661.0</td>\n",
       "      <td>15655.0</td>\n",
       "      <td>17215.0</td>\n",
       "      <td>10438.0</td>\n",
       "    </tr>\n",
       "  </tbody>\n",
       "</table>\n",
       "<p>500 rows × 18771 columns</p>\n",
       "</div>"
      ],
      "text/plain": [
       "     1       2       3        4      5       6      7       8      9       \n",
       "0     43.0   384.0    24.0  10638.0    9.0    11.0  172.0  1643.0   75.0  \\\n",
       "1    245.0   661.0   348.0  15028.0   78.0   159.0  245.0   308.0  157.0   \n",
       "2    113.0    83.0    11.0  12113.0  557.0   164.0  293.0   770.0   50.0   \n",
       "3    271.0   762.0   517.0   7717.0  167.0   414.0  376.0   871.0    1.0   \n",
       "4    337.0     8.0   119.0   8785.0  121.0   365.0   52.0   400.0  280.0   \n",
       "..     ...     ...     ...      ...    ...     ...    ...     ...    ...   \n",
       "495  286.0   268.0   342.0   6142.0   77.0   209.0   43.0    55.0  293.0   \n",
       "496  969.0  1248.0   322.0   8326.0  165.0  1269.0    9.0   952.0    5.0   \n",
       "497  258.0  2200.0  1641.0   9191.0  102.0  1109.0   94.0   344.0  208.0   \n",
       "498   65.0    65.0   408.0  15487.0  919.0   128.0  186.0  1225.0   15.0   \n",
       "499  429.0   250.0   113.0   6776.0  158.0  1220.0  134.0   106.0  295.0   \n",
       "\n",
       "      10     ...    18762    18763    18764    18765    18766    18767   \n",
       "0    4438.0  ...  12541.0   6914.0  15046.0   1287.0   1287.0   9419.0  \\\n",
       "1     245.0  ...   9029.0    806.0   3547.0  11354.0  11354.0  14095.0   \n",
       "2    1313.0  ...  10256.0   9056.0  15713.0   7856.0   2399.0   2399.0   \n",
       "3    7717.0  ...  13383.0  17765.0  10047.0   3377.0   3377.0   6712.0   \n",
       "4    1968.0  ...  14027.0   2842.0  12827.0   1642.0  10427.0   1642.0   \n",
       "..      ...  ...      ...      ...      ...      ...      ...      ...   \n",
       "495  3042.0  ...  17174.0  16830.0  10687.0  10343.0   4201.0   4201.0   \n",
       "496  3517.0  ...   5397.0  11606.0   3279.0   9489.0   1162.0   1162.0   \n",
       "497  1423.0  ...   7774.0  16577.0   7386.0   6609.0   6609.0   6997.0   \n",
       "498  1922.0  ...   8500.0  17421.0   1933.0   7571.0   7571.0  10854.0   \n",
       "499  2043.0  ...   5759.0   7318.0    541.0   2101.0   8878.0   2101.0   \n",
       "\n",
       "       18768    18769    18770    18771  \n",
       "0     3792.0  11925.0   6298.0  14431.0  \n",
       "1     5872.0   8613.0    390.0   3131.0  \n",
       "2    13313.0   1199.0  18770.0   6656.0  \n",
       "3       41.0  11094.0  15477.0   7759.0  \n",
       "4     9227.0    441.0   8027.0  18012.0  \n",
       "..       ...      ...      ...      ...  \n",
       "495   9998.0   3856.0   3512.0  16141.0  \n",
       "496  15698.0   7371.0  13580.0   5253.0  \n",
       "497   6221.0  15800.0   5832.0  15412.0  \n",
       "498   1004.0   4288.0  13209.0  16492.0  \n",
       "499   3661.0  15655.0  17215.0  10438.0  \n",
       "\n",
       "[500 rows x 18771 columns]"
      ]
     },
     "execution_count": 12,
     "metadata": {},
     "output_type": "execute_result"
    }
   ],
   "source": [
    "signature_matrix"
   ]
  },
  {
   "cell_type": "markdown",
   "id": "26738e50",
   "metadata": {},
   "source": [
    "##  banding technique(split the signature matrix into b bands, each with r rows)"
   ]
  },
  {
   "cell_type": "code",
   "execution_count": 16,
   "id": "3033e38a",
   "metadata": {},
   "outputs": [],
   "source": [
    "b = 250\n",
    "\n",
    "# create the buckets, which store the similar sets  \n",
    "bucket = [{} for i in range(b)]\n",
    "\n",
    "total_row = signature_matrix.shape[0]\n",
    "r = total_row // b\n",
    "\n",
    " \n",
    "# this hash function used to map from a band to a bucket\n",
    "def int2connectedStr(ser):\n",
    "    data_val = \"\"\n",
    "    for i in range(ser.size):\n",
    "        data_val += str(ser.iloc[i])\n",
    "    return data_val"
   ]
  },
  {
   "cell_type": "code",
   "execution_count": 18,
   "id": "75c8e45c",
   "metadata": {},
   "outputs": [],
   "source": [
    "# %%timeit -r 1 -n 2\n",
    "\n",
    "for i in range(b): # traverse band and establish buckets\n",
    "    \n",
    "    start = i * r\n",
    "    end = (i + 1) * r - 1 if i != b - 1 else total_row - 1 \n",
    "    \n",
    "    # obtain the key of bucket of each set\n",
    "    ser = signature_matrix.loc[start: end].apply(int2connectedStr)\n",
    "    \n",
    "    # traver the keys, and then put them into suitable bucket\n",
    "    for index in ser.index:\n",
    "        # if the key is not in bucket, just need to create a bucket\n",
    "        if ser[index] not in bucket[i].keys():\n",
    "            bucket[i][ser[index]] = []\n",
    "        bucket[i][ser[index]].append(index)"
   ]
  },
  {
   "cell_type": "markdown",
   "id": "a142b4d5",
   "metadata": {},
   "source": [
    "## Searching"
   ]
  },
  {
   "cell_type": "code",
   "execution_count": 87,
   "id": "ac6d0274",
   "metadata": {
    "scrolled": false
   },
   "outputs": [
    {
     "name": "stdout",
     "output_type": "stream",
     "text": [
      "please input an author your want to search:4382\n",
      "\n",
      "===========candidates===========\n",
      "the number of candidates: 115\n",
      "{5120, 262, 3344, 3346, 6678, 5911, 3353, 3357, 4383, 14622, 5153, 4384, 4389, 3366, 2853, 1573, 14634, 3371, 3374, 14640, 14641, 1586, 4668, 3388, 318, 6210, 10052, 4677, 11588, 4679, 4425, 4682, 4684, 3405, 4685, 4431, 4686, 7509, 3413, 7511, 7512, 4693, 4694, 7515, 7516, 4695, 4700, 4703, 7518, 4705, 7522, 10595, 7523, 4707, 4710, 4711, 1386, 4460, 7537, 7538, 7539, 12660, 12662, 7542, 7545, 7550, 7553, 7554, 9858, 4225, 7555, 7558, 17030, 6280, 17031, 4234, 7562, 4995, 7566, 7567, 7570, 7572, 7573, 7575, 11927, 7577, 3479, 7591, 7592, 6318, 4017, 1716, 439, 2244, 2245, 1739, 973, 1999, 4306, 13780, 4309, 476, 4830, 2020, 1766, 489, 1259, 1005, 9454, 4334, 10479, 2547, 16380, 16381, 5374}\n",
      "\n"
     ]
    }
   ],
   "source": [
    "author = int(input(\"please input an author your want to search:\"))\n",
    "\n",
    "candidates = set()\n",
    "\n",
    "for i in range(b):\n",
    "    start = i * r\n",
    "    end = (i + 1) * r - 1 if i != b - 1 else total_row - 1\n",
    "    \n",
    "    # acquire the band of the inputed author\n",
    "    ser = signature_matrix.loc[start: end, author]\n",
    "    \n",
    "    # convert the content of the band to key\n",
    "    val = int2connectedStr(ser)\n",
    "    \n",
    "    # add the other sets into candidates\n",
    "    candidates |= set(bucket[i][val])\n",
    "    \n",
    "print()\n",
    "\n",
    "print(\"candidates\".center(32,'='))\n",
    "candidates -= {author}\n",
    "print(f\"the number of candidates: {len(candidates)}\")\n",
    "print(candidates)\n",
    "\n",
    "print()\n",
    "\n",
    "\n"
   ]
  },
  {
   "cell_type": "markdown",
   "id": "38b18de6",
   "metadata": {},
   "source": [
    "## validation"
   ]
  },
  {
   "cell_type": "code",
   "execution_count": 28,
   "id": "f58efdb7",
   "metadata": {},
   "outputs": [],
   "source": [
    "def jarccard(list1, list2):\n",
    "    assert type(list1) == list and type(list2) == list and len(set(list1) | set(list2)) > 0\n",
    "    return len(set(list1) & set(list2)) / len(set(list1) | set(list2))"
   ]
  },
  {
   "cell_type": "code",
   "execution_count": 74,
   "id": "d22210dd",
   "metadata": {
    "code_folding": []
   },
   "outputs": [
    {
     "data": {
      "text/plain": [
       "{15383: 0.4,\n",
       " 14456: 0.25,\n",
       " 17702: 0.2,\n",
       " 10317: 0.15384615384615385,\n",
       " 13548: 0.14285714285714285,\n",
       " 8994: 0.13333333333333333,\n",
       " 15384: 0.125,\n",
       " 14454: 0.125,\n",
       " 1794: 0.1111111111111111,\n",
       " 15023: 0.1111111111111111}"
      ]
     },
     "execution_count": 74,
     "metadata": {},
     "output_type": "execute_result"
    }
   ],
   "source": [
    "# store the top 10 similar sets\n",
    "estimate_top10 = {}\n",
    "\n",
    "# filter sets from the candidates\n",
    "for item in candidates:\n",
    "    estimate_top10[item] = jarccard(data[item-1], data[author-1])\n",
    " \n",
    "estimate_top10 = dict(sorted(estimate_top10.items(), key=lambda item:item[1], reverse=True)[:10])\n",
    "estimate_top10"
   ]
  },
  {
   "cell_type": "code",
   "execution_count": 80,
   "id": "a878d5a9",
   "metadata": {},
   "outputs": [
    {
     "data": {
      "text/plain": [
       "{15383: 0.4,\n",
       " 14456: 0.25,\n",
       " 17702: 0.2,\n",
       " 10317: 0.15384615384615385,\n",
       " 13548: 0.14285714285714285,\n",
       " 8994: 0.13333333333333333,\n",
       " 14454: 0.125,\n",
       " 15384: 0.125,\n",
       " 4305: 0.11538461538461539,\n",
       " 1794: 0.1111111111111111}"
      ]
     },
     "execution_count": 80,
     "metadata": {},
     "output_type": "execute_result"
    }
   ],
   "source": [
    "ture_top10 = {}\n",
    "\n",
    "# filter sets from the dataset\n",
    "for item in range(max_node):\n",
    "    if item != author - 1:\n",
    "        ture_top10[item + 1] = jarccard(data[item], data[author-1])\n",
    "        \n",
    "ture_top10 = dict(sorted(ture_top10.items(), key=lambda item: item[1], reverse=True)[:10])\n",
    "ture_top10"
   ]
  },
  {
   "cell_type": "code",
   "execution_count": 88,
   "id": "9a364c42",
   "metadata": {},
   "outputs": [
    {
     "data": {
      "text/plain": [
       "0.9"
      ]
     },
     "execution_count": 88,
     "metadata": {},
     "output_type": "execute_result"
    }
   ],
   "source": [
    "def arrcuracy_rate(l1, l2):\n",
    "    return len(set(l1) & set(l2)) / len(l1)\n",
    "arrcuracy_rate(estimate_top10.keys(), ture_top10.keys())"
   ]
  },
  {
   "cell_type": "markdown",
   "id": "74fc5e47",
   "metadata": {},
   "source": [
    "## Amplifying a Locality-Sensitive Family"
   ]
  },
  {
   "cell_type": "code",
   "execution_count": 134,
   "id": "77de0eb4",
   "metadata": {},
   "outputs": [],
   "source": [
    "signature_matrix = signature_matrix.astype(np.int32)"
   ]
  },
  {
   "cell_type": "code",
   "execution_count": 135,
   "id": "23478dee",
   "metadata": {},
   "outputs": [
    {
     "data": {
      "text/plain": [
       "(250, 18771)"
      ]
     },
     "execution_count": 135,
     "metadata": {},
     "output_type": "execute_result"
    }
   ],
   "source": [
    "and_result = np.bitwise_and(signature_matrix.loc[0::2, :].to_numpy(), signature_matrix.loc[1::2, :].to_numpy())\n",
    "and_result.shape"
   ]
  },
  {
   "cell_type": "code",
   "execution_count": 136,
   "id": "6a8f561d",
   "metadata": {},
   "outputs": [
    {
     "data": {
      "text/plain": [
       "(125, 18771)"
      ]
     },
     "execution_count": 136,
     "metadata": {},
     "output_type": "execute_result"
    }
   ],
   "source": [
    "or_result = np.bitwise_or(and_result[0::2, :], and_result[1::2, :])\n",
    "or_result.shape"
   ]
  },
  {
   "cell_type": "code",
   "execution_count": null,
   "id": "2238e946",
   "metadata": {},
   "outputs": [],
   "source": []
  }
 ],
 "metadata": {
  "kernelspec": {
   "display_name": "Python 3 (ipykernel)",
   "language": "python",
   "name": "python3"
  },
  "language_info": {
   "codemirror_mode": {
    "name": "ipython",
    "version": 3
   },
   "file_extension": ".py",
   "mimetype": "text/x-python",
   "name": "python",
   "nbconvert_exporter": "python",
   "pygments_lexer": "ipython3",
   "version": "3.9.13"
  },
  "toc": {
   "base_numbering": 1,
   "nav_menu": {},
   "number_sections": true,
   "sideBar": true,
   "skip_h1_title": false,
   "title_cell": "Table of Contents",
   "title_sidebar": "Contents",
   "toc_cell": false,
   "toc_position": {},
   "toc_section_display": true,
   "toc_window_display": false
  }
 },
 "nbformat": 4,
 "nbformat_minor": 5
}
