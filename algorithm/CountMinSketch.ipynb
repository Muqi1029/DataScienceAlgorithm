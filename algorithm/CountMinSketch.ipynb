{
 "cells": [
  {
   "cell_type": "code",
   "execution_count": 1,
   "id": "a55081d8",
   "metadata": {},
   "outputs": [],
   "source": [
    "import numpy as np\n",
    "\n",
    "class CmSketch:\n",
    "    def __init__(self):\n",
    "        \"\"\"\n",
    "        hashF: hash Function\n",
    "        dS: Data Structure\n",
    "        \"\"\"\n",
    "        self.hashF = [lambda x: (3*x + 2) % 8, lambda x: (7 * x + 5) % 8, lambda x: (5 * x + 3) % 8 ]\n",
    "        self.dS = np.zeros((len(self.hashF),8))\n",
    "        \n",
    "    \n",
    "    def feed(self, num):\n",
    "        for index, fun in enumerate(self.hashF):\n",
    "            self.dS[index][fun(num)] += 1\n",
    "            \n",
    "    def display(self, num):\n",
    "        result = []\n",
    "        for i in range(len(self.hashF)):\n",
    "            result.append(self.dS[i][self.hashF[i](num)])\n",
    "        return np.min(result)\n",
    "        "
   ]
  }
 ],
 "metadata": {
  "kernelspec": {
   "display_name": "Python 3 (ipykernel)",
   "language": "python",
   "name": "python3"
  },
  "language_info": {
   "codemirror_mode": {
    "name": "ipython",
    "version": 3
   },
   "file_extension": ".py",
   "mimetype": "text/x-python",
   "name": "python",
   "nbconvert_exporter": "python",
   "pygments_lexer": "ipython3",
   "version": "3.9.13"
  }
 },
 "nbformat": 4,
 "nbformat_minor": 5
}
