{
 "cells": [
  {
   "cell_type": "code",
   "execution_count": 131,
   "id": "f56f8da2",
   "metadata": {},
   "outputs": [],
   "source": [
    "import random\n",
    "import numpy as np\n",
    "\n",
    "class Morris:\n",
    "    def __init__(self):\n",
    "        self.X = 0 \n",
    "    \n",
    "    def feed(self):\n",
    "        \"\"\"\n",
    "        Args:\n",
    "            item(int): \n",
    "        \"\"\"\n",
    "        if random.randint(1, 2**self.X) == 1:\n",
    "            self.X += 1\n",
    "#             print(self.X)\n",
    "    \n",
    "    def __repr__(self):\n",
    "        return f\"estimated count is {2**self.X - 1}\"\n",
    "    \n",
    "    def reset(self):\n",
    "        self.X = 0"
   ]
  },
  {
   "cell_type": "markdown",
   "id": "e7638bf2",
   "metadata": {},
   "source": [
    "### test"
   ]
  },
  {
   "cell_type": "code",
   "execution_count": 132,
   "id": "435cbb40",
   "metadata": {},
   "outputs": [],
   "source": [
    "true_count = 1000\n",
    "test_count = 10\n",
    "morris = Morris()\n",
    "\n",
    "result = np.zeros((test_count,))\n",
    "\n",
    "for _ in range(test_count):\n",
    "    for i in range(true_count):\n",
    "        morris.feed()\n",
    "#     print(morris)\n",
    "    result[_] = morris.X\n",
    "    morris.reset()\n",
    "    \n",
    "result = 2 ** result - 1"
   ]
  },
  {
   "cell_type": "code",
   "execution_count": 133,
   "id": "a82ce64f",
   "metadata": {},
   "outputs": [
    {
     "data": {
      "text/plain": [
       "1023.0"
      ]
     },
     "execution_count": 133,
     "metadata": {},
     "output_type": "execute_result"
    }
   ],
   "source": [
    "result.mean()"
   ]
  },
  {
   "cell_type": "code",
   "execution_count": 134,
   "id": "16e08aab",
   "metadata": {},
   "outputs": [
    {
     "data": {
      "text/plain": [
       "157286.4"
      ]
     },
     "execution_count": 134,
     "metadata": {},
     "output_type": "execute_result"
    }
   ],
   "source": [
    "result.var()"
   ]
  },
  {
   "cell_type": "markdown",
   "id": "df7bed10",
   "metadata": {},
   "source": [
    "## Morris+\n",
    "conduct n times Morris, and get mean() of the results"
   ]
  },
  {
   "cell_type": "code",
   "execution_count": 174,
   "id": "a24933f2",
   "metadata": {},
   "outputs": [],
   "source": [
    "import random\n",
    "import numpy as np\n",
    "\n",
    "class MorrisPlus:\n",
    "    def __init__(self, num):\n",
    "        self.num = num\n",
    "        self.X = np.zeros((num,))\n",
    "    \n",
    "    def feed(self):\n",
    "        \"\"\"\n",
    "        Args:\n",
    "            item(int): \n",
    "        \"\"\"\n",
    "        for i in range(self.X.size):\n",
    "            if random.randint(1, 2**self.X[i]) == 1:\n",
    "                self.X[i] += 1\n",
    "#             print(self.X)\n",
    "    \n",
    "    def __repr__(self):\n",
    "        return f\"estimated count is {np.mean(2**self.X - 1)}\"\n",
    "    \n",
    "    def reset(self):\n",
    "        self.X = np.zeros(self.num)"
   ]
  },
  {
   "cell_type": "code",
   "execution_count": 175,
   "id": "ffc06780",
   "metadata": {},
   "outputs": [
    {
     "data": {
      "text/plain": [
       "array([1074.2, 1125.4,  741.4,  792.6, 1253.4, 1176.6, 1176.6,  971.8,\n",
       "       1125.4,  715.8, 1048.6,  818.2, 1381.4,  869.4,  843.8, 1023. ,\n",
       "        895. ,  843.8, 1176.6, 1125.4, 1330.2,  895. , 1074.2, 1227.8,\n",
       "        818.2, 1023. , 1432.6, 1048.6,  997.4,  869.4, 1023. ,  792.6,\n",
       "        843.8,  664.6,  971.8,  920.6,  895. , 1023. ,  920.6, 1074.2,\n",
       "       1099.8,  792.6,  664.6,  971.8, 1074.2, 1125.4,  767. ,  818.2,\n",
       "       1253.4, 1355.8,  920.6, 1125.4,  664.6,  818.2, 1458.2,  869.4,\n",
       "       1483.8,  971.8,  741.4,  920.6,  895. , 1125.4, 1279. , 1023. ,\n",
       "        895. ,  971.8, 1176.6,  920.6, 1048.6, 1483.8,  920.6, 1791. ,\n",
       "       1176.6,  895. , 1253.4,  971.8,  843.8,  920.6, 1125.4, 1074.2,\n",
       "       1023. ,  843.8,  895. , 1074.2,  818.2, 1125.4,  818.2, 1074.2,\n",
       "       1176.6, 1176.6,  895. , 1023. ,  741.4,  971.8, 1611.8, 1099.8,\n",
       "        869.4,  946.2, 1202.2,  741.4])"
      ]
     },
     "execution_count": 175,
     "metadata": {},
     "output_type": "execute_result"
    }
   ],
   "source": [
    "morris_p = MorrisPlus(10)\n",
    "true_count = 1000\n",
    "\n",
    "\n",
    "test_count = 100 # the run times of Morris+ algorithm\n",
    "\n",
    "result = np.zeros((test_count,)) # record result \n",
    "\n",
    "for i in range(test_count):\n",
    "    for _ in range(true_count):\n",
    "        morris_p.feed()\n",
    "    result[i] = np.mean(2 ** morris_p.X - 1)\n",
    "    morris_p.reset()\n",
    "result"
   ]
  },
  {
   "cell_type": "code",
   "execution_count": 176,
   "id": "50a46db3",
   "metadata": {},
   "outputs": [
    {
     "data": {
      "text/plain": [
       "984.5999999999999"
      ]
     },
     "execution_count": 176,
     "metadata": {},
     "output_type": "execute_result"
    }
   ],
   "source": [
    "np.median(result) # the result of Morris++ "
   ]
  },
  {
   "cell_type": "code",
   "execution_count": 177,
   "id": "954f1e74",
   "metadata": {},
   "outputs": [
    {
     "data": {
      "text/plain": [
       "43874.779136"
      ]
     },
     "execution_count": 177,
     "metadata": {},
     "output_type": "execute_result"
    }
   ],
   "source": [
    "np.var(result) # "
   ]
  },
  {
   "cell_type": "markdown",
   "id": "6429d3c9",
   "metadata": {},
   "source": [
    "## Morris++"
   ]
  },
  {
   "cell_type": "code",
   "execution_count": 152,
   "id": "5291296e",
   "metadata": {},
   "outputs": [],
   "source": [
    "import random\n",
    "import numpy as np\n",
    "\n",
    "class MorrisPlusPlus:\n",
    "    def __init__(self, num_bit, num_morris_p):\n",
    "        \"\"\"\n",
    "        num_bit: the bit counts which each Morris+ need\n",
    "        num_morris_p: the number of morris+\n",
    "        \"\"\"\n",
    "        self.X = np.zeros((num_morris_p, bit)) \n",
    "    \n",
    "    def feed(self):\n",
    "        \"\"\"\n",
    "        \n",
    "        \"\"\"\n",
    "        for i in range(self.X.shape[0]):\n",
    "            for j in range(self.X.shape[1]):\n",
    "                if random.randint(1, 2**self.X[i,j]) == 1:\n",
    "                    self.X[i, j] += 1\n",
    "                    \n",
    "    \n",
    "    def __repr__(self):\n",
    "        return f\"estimated count is {np.mean(2**self.X - 1)}\"\n",
    "    \n",
    "    def reset(self):\n",
    "        self.X = 0\n",
    "    \n",
    "    def getResult(self):\n",
    "        \n",
    "        return np.median(np.mean(2 ** self.X - 1, axis=1))"
   ]
  },
  {
   "cell_type": "code",
   "execution_count": 164,
   "id": "f0a48685",
   "metadata": {},
   "outputs": [
    {
     "name": "stdout",
     "output_type": "stream",
     "text": [
      "869.4\n"
     ]
    }
   ],
   "source": [
    "morris_pp = MorrisPlusPlus(10, 10)\n",
    "ture_count = 1000\n",
    "\n",
    "for _ in range(ture_count):\n",
    "    morris_pp.feed()\n",
    "print(morris_pp.getResult())"
   ]
  }
 ],
 "metadata": {
  "kernelspec": {
   "display_name": "Python 3 (ipykernel)",
   "language": "python",
   "name": "python3"
  },
  "language_info": {
   "codemirror_mode": {
    "name": "ipython",
    "version": 3
   },
   "file_extension": ".py",
   "mimetype": "text/x-python",
   "name": "python",
   "nbconvert_exporter": "python",
   "pygments_lexer": "ipython3",
   "version": "3.9.13"
  }
 },
 "nbformat": 4,
 "nbformat_minor": 5
}
