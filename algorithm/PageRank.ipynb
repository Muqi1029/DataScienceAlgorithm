{
 "cells": [
  {
   "cell_type": "code",
   "execution_count": 86,
   "id": "2f5700c2",
   "metadata": {},
   "outputs": [],
   "source": [
    "import numpy as np\n",
    "class PageRank:\n",
    "    def __init__(self, matrix, initial_state, beta=1, iter_num=100, tol=1e-3):\n",
    "        \"\"\"\n",
    "        Args:\n",
    "            matrix(np.Array): tranform matrix\n",
    "            initial_state(np.Array): initial state\n",
    "            beta(scale): (1 - beta) is the probability that web surfer teleport to a random page\n",
    "            iter_num(scale): the number of iteration\n",
    "            tol(scale): \n",
    "        \"\"\"\n",
    "        assert np.all(np.sum(matrix, axis=0) == 1) # assert matrix is stochastic\n",
    "        self._matrix = matrix\n",
    "        self._initial_state = initial_state\n",
    "        self._beta = beta\n",
    "        self._iter_num = iter_num\n",
    "        self._tol = tol\n",
    "        self._result = None\n",
    "    \n",
    "    def fit(self):\n",
    "        A = self._matrix\n",
    "        n = np.shape(A)[0]\n",
    "        v1 = A @ self._initial_state\n",
    "        for _ in range(self._iter_num):\n",
    "            v = A @ v1 * self._beta + (1 - self._beta) * np.ones((n,)) / n\n",
    "            if (np.linalg.norm(v - v1) < self._tol):\n",
    "                break\n",
    "            v1 = v\n",
    "        self._result = v\n",
    "        "
   ]
  },
  {
   "cell_type": "code",
   "execution_count": 87,
   "id": "0a8339b2",
   "metadata": {},
   "outputs": [
    {
     "name": "stdout",
     "output_type": "stream",
     "text": [
      "[0.23065272 0.30787751 0.46146976]\n"
     ]
    }
   ],
   "source": [
    "# test1\n",
    "matrix = np.array([[1/3, 1/2, 0], [1/3, 0, 1/2], [1/3, 1/2, 1/2]])\n",
    "initial_state = np.array([1/3, 1/3, 1/3])\n",
    "test = PageRank(matrix, initial_state)\n",
    "test.fit()\n",
    "print(test._result)"
   ]
  },
  {
   "cell_type": "code",
   "execution_count": 88,
   "id": "135cceea",
   "metadata": {},
   "outputs": [
    {
     "name": "stdout",
     "output_type": "stream",
     "text": [
      "[0.25919839 0.3087286  0.43207301]\n"
     ]
    }
   ],
   "source": [
    "#test2\n",
    "\n",
    "matrix = np.array([[1/3, 1/2, 0], [1/3, 0, 1/2], [1/3, 1/2, 1/2]])\n",
    "initial_state = np.array([1/3, 1/3, 1/3])\n",
    "test2 = PageRank(matrix, initial_state, beta=0.8)\n",
    "test2.fit()\n",
    "print(test2._result)"
   ]
  },
  {
   "cell_type": "code",
   "execution_count": null,
   "id": "d4474f16",
   "metadata": {},
   "outputs": [],
   "source": []
  },
  {
   "cell_type": "code",
   "execution_count": null,
   "id": "6c7e4036",
   "metadata": {},
   "outputs": [],
   "source": []
  }
 ],
 "metadata": {
  "kernelspec": {
   "display_name": "Python 3 (ipykernel)",
   "language": "python",
   "name": "python3"
  },
  "language_info": {
   "codemirror_mode": {
    "name": "ipython",
    "version": 3
   },
   "file_extension": ".py",
   "mimetype": "text/x-python",
   "name": "python",
   "nbconvert_exporter": "python",
   "pygments_lexer": "ipython3",
   "version": "3.9.13"
  }
 },
 "nbformat": 4,
 "nbformat_minor": 5
}
