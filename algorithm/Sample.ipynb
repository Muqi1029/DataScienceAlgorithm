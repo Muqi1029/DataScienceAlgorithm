{
 "cells": [
  {
   "cell_type": "markdown",
   "id": "4fd23cbd",
   "metadata": {},
   "source": [
    "## 抽样算法\n",
    "> 抽样：选择部分具有代表性的数据"
   ]
  },
  {
   "cell_type": "code",
   "execution_count": null,
   "id": "59e87522",
   "metadata": {},
   "outputs": [],
   "source": []
  },
  {
   "cell_type": "code",
   "execution_count": null,
   "id": "ac96468d",
   "metadata": {},
   "outputs": [],
   "source": []
  },
  {
   "cell_type": "code",
   "execution_count": null,
   "id": "ed0dc91c",
   "metadata": {},
   "outputs": [],
   "source": []
  },
  {
   "cell_type": "code",
   "execution_count": null,
   "id": "e7824561",
   "metadata": {},
   "outputs": [],
   "source": []
  },
  {
   "cell_type": "markdown",
   "id": "828a8e63",
   "metadata": {},
   "source": [
    "#### 水库抽样\n",
    "\n",
    "> 总体容量未知，仅通过单遍扫描数据集便能生成等概率抽样集合"
   ]
  },
  {
   "cell_type": "code",
   "execution_count": 97,
   "id": "b2f18c29",
   "metadata": {},
   "outputs": [],
   "source": [
    "import random \n",
    "\n",
    "\n",
    "class ReserviorSample:\n",
    "    def __init__(self, capacity):\n",
    "        self.capacity = capacity\n",
    "        self.sample = []\n",
    "        self._count = 0 # used to iterator\n",
    "        self._counter = 1 # used to \n",
    "    \n",
    "    def __iter__(self):\n",
    "        return self\n",
    "    \n",
    "    def __next__(self):\n",
    "        self._count += 1\n",
    "        return self.sample[self._count - 1]\n",
    "    \n",
    "    def feed(self, item):\n",
    "        \"\"\"\n",
    "        item:\n",
    "        \"\"\"\n",
    "        if item:\n",
    "            num = int(item)\n",
    "#             print(num)\n",
    "            if self._counter <= self.capacity:\n",
    "                self.sample.append(num)\n",
    "                self._counter += 1\n",
    "            else:\n",
    "                r = random.randint(1, self._counter)\n",
    "                if r < self.capacity:\n",
    "                    self.sample[r - 1] = num\n",
    "            \n",
    "    \n",
    "    def __repr__(self):\n",
    "        return str(self.sample)"
   ]
  },
  {
   "cell_type": "code",
   "execution_count": 98,
   "id": "ad0caa00",
   "metadata": {},
   "outputs": [],
   "source": [
    "def creator():\n",
    "    counter = 0 \n",
    "    with open('data.txt', 'a') as file:\n",
    "        while True:\n",
    "            counter += 1\n",
    "            if counter == 1000000:\n",
    "                break\n",
    "            else:\n",
    "                file.write(str(random.randint(1,3)))\n",
    "\n",
    "if __name__ == '__main__':\n",
    "    creator()"
   ]
  },
  {
   "cell_type": "markdown",
   "id": "4be9c283",
   "metadata": {},
   "source": [
    "### test"
   ]
  },
  {
   "cell_type": "code",
   "execution_count": 101,
   "id": "3618cb75",
   "metadata": {},
   "outputs": [
    {
     "name": "stdout",
     "output_type": "stream",
     "text": [
      "0.3228\n",
      "0.3373\n",
      "0.3399\n"
     ]
    }
   ],
   "source": [
    "def test():\n",
    "    p = ReserviorSample(10000)\n",
    "    with open('data.txt', 'r', encoding='utf-8') as file:\n",
    "        flag = True\n",
    "        while flag:\n",
    "            num = file.read(1)\n",
    "            if not num:\n",
    "                flag = False\n",
    "            else:\n",
    "                p.feed(num)\n",
    "    count_1 = 0\n",
    "    count_2 = 0\n",
    "    count_3 = 0\n",
    "        \n",
    "    for i in p.sample:\n",
    "        if i == 1:\n",
    "            count_1 += 1\n",
    "        elif i == 2:\n",
    "            count_2 += 1\n",
    "        else:\n",
    "            count_3 += 1\n",
    "    \n",
    "    print(f\"{count_1/10000}\")\n",
    "    print(f\"{count_2/10000}\")    \n",
    "    print(f\"{count_3/10000}\")    \n",
    "\n",
    "test()"
   ]
  },
  {
   "cell_type": "code",
   "execution_count": null,
   "id": "734066a8",
   "metadata": {},
   "outputs": [],
   "source": []
  }
 ],
 "metadata": {
  "kernelspec": {
   "display_name": "Python 3 (ipykernel)",
   "language": "python",
   "name": "python3"
  },
  "language_info": {
   "codemirror_mode": {
    "name": "ipython",
    "version": 3
   },
   "file_extension": ".py",
   "mimetype": "text/x-python",
   "name": "python",
   "nbconvert_exporter": "python",
   "pygments_lexer": "ipython3",
   "version": "3.9.13"
  }
 },
 "nbformat": 4,
 "nbformat_minor": 5
}
