{
 "cells": [
  {
   "cell_type": "code",
   "execution_count": 1,
   "id": "cc3576d3",
   "metadata": {},
   "outputs": [],
   "source": [
    "class MisraGries:\n",
    "    def __init__(self, k):\n",
    "        \"\"\"\n",
    "        :k  the size of the counter\n",
    "        :counter: \n",
    "        \"\"\"\n",
    "        self.counter = {}\n",
    "        self.k = k\n",
    "    \n",
    "    def feed(self, num):\n",
    "        if num in self.counter.keys():\n",
    "            self.counter[num] += 1\n",
    "            print(f\"update，result：{self.counter}\")\n",
    "        elif len(self.counter) < self.k:\n",
    "            # insert\n",
    "            self.counter[num] = 1\n",
    "            print(f\"insert，result：{self.counter}\")\n",
    "            if len(self.counter) == self.k:\n",
    "                self.delete()\n",
    "\n",
    "\n",
    "    def delete(self):\n",
    "        deleteKeys = []\n",
    "        while len(self.counter) == self.k:\n",
    "            # all the item in counter decrease by 1\n",
    "            for key in self.counter.keys():\n",
    "                self.counter[key] -= 1\n",
    "                if self.counter[key] == 0:\n",
    "                    deleteKeys.append(key)\n",
    "            # operate delete\n",
    "            for item in deleteKeys:\n",
    "                del self.counter[item]\n",
    "            print(f\"delete: {deleteKeys}, result:{self.counter}\")\n",
    "            deleteKeys.clear()"
   ]
  },
  {
   "cell_type": "code",
   "execution_count": null,
   "id": "0b92bf85",
   "metadata": {},
   "outputs": [],
   "source": []
  }
 ],
 "metadata": {
  "kernelspec": {
   "display_name": "Python 3 (ipykernel)",
   "language": "python",
   "name": "python3"
  },
  "language_info": {
   "codemirror_mode": {
    "name": "ipython",
    "version": 3
   },
   "file_extension": ".py",
   "mimetype": "text/x-python",
   "name": "python",
   "nbconvert_exporter": "python",
   "pygments_lexer": "ipython3",
   "version": "3.9.13"
  }
 },
 "nbformat": 4,
 "nbformat_minor": 5
}
